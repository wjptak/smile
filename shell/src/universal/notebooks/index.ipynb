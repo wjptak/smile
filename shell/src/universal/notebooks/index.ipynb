{
 "cells": [
  {
   "cell_type": "markdown",
   "metadata": {},
   "source": [
    "# Smile - Statistical Machine Intelligence and Learning Engine\n",
    "\n",
    "Smile is a fast and comprehensive machine learning, NLP, linear algebra,\n",
    "graph, interpolation, and visualization system in Java and Scala.\n",
    "With advanced data structures and algorithms, Smile delivers state-of-art performance.\n",
    "\n",
    "Smile covers every aspect of machine learning, including classification,\n",
    "regression, clustering, association rule mining, feature selection,\n",
    "manifold learning, multidimensional scaling, genetic algorithms,\n",
    "missing value imputation, efficient nearest neighbor search, etc.\n",
    "\n",
    "Smile is well documented and please check out the project [website](http://haifengl.github.io/)\n",
    "for programming guides and more information."
   ]
  },
  {
   "cell_type": "markdown",
   "metadata": {},
   "source": [
    "## Notebooks\n",
    "\n",
    "A list of Jupyter notebooks demonstrating Smile.\n",
    "\n",
    "### Data\n",
    "* [Data Loading](data-io.ipynb)\n",
    "* [Data Frame](data-frame.ipynb)\n",
    "* [Formula](formula.ipynb)\n",
    "\n",
    "### Visualization\n",
    "\n",
    "* [Swing-based Plot](plot-swing.ipynb)\n",
    "* [Vega-based Plot](plot-vega.ipynb)\n",
    "\n",
    "### Supervised Learning\n",
    "* [Classification](classification.ipynb)\n",
    "* [Regression](regression.ipynb)\n",
    "\n",
    "### Unsupervised Learning\n",
    "* [Clustering](clustering.ipynb)\n",
    "* [Manifold Learning](manifold.ipynb)\n",
    "* [Multi-Dimensional Scaling](mds.ipynb)\n",
    "\n",
    "### Natural Language Processing\n",
    "* [NLP](nlp.ipynb)\n",
    "\n",
    "### Mathematics\n",
    "* [Computer Algebra System](cas.ipynb)\n",
    "* [Linear Algebra](matrix.ipynb)\n",
    "* [Statistics](stat.ipynb)\n",
    "* [Interpolation](interpolation.ipynb)\n",
    "* [Wavelet](wavelet.ipynb)\n",
    "\n",
    "### Other Languages\n",
    "* [Kotlin](kotlin.ipynb)\n",
    "* [Clojure](clojure.ipynb)"
   ]
  },
  {
   "cell_type": "markdown",
   "metadata": {},
   "source": [
    "## External Notebooks\n",
    "\n",
    "Links to notebooks using almond that are hosted externally.\n",
    "\n",
    "### Scala\n",
    "* [Scala Tour](https://github.com/almond-sh/examples/tree/master/notebooks/scala-tour/tour-of-scala.ipynb)\n",
    "\n",
    "### Jupyter\n",
    "* [Interactive Computing in Scala with Jupyter and Almond](https://github.com/almond-sh/examples/tree/master/notebooks/interactive_computing_article.ipynb)"
   ]
  }
 ],
 "metadata": {
  "kernelspec": {
   "display_name": "Scala (2.13)",
   "language": "scala",
   "name": "scala213"
  },
  "language_info": {
   "codemirror_mode": "text/x-scala",
   "file_extension": ".scala",
   "mimetype": "text/x-scala",
   "name": "scala",
   "nbconvert_exporter": "script",
   "version": "2.13.1"
  }
 },
 "nbformat": 4,
 "nbformat_minor": 4
}
